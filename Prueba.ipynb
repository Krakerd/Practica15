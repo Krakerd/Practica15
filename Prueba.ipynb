{
 "cells": [
  {
   "cell_type": "code",
   "execution_count": null,
   "metadata": {},
   "outputs": [],
   "source": [
    "import math"
   ]
  },
  {
   "cell_type": "code",
   "execution_count": null,
   "metadata": {},
   "outputs": [],
   "source": [
    "def pedirEntrada():\n",
    "    \"\"\"None -> str\n",
    "    Pide la entrada de datos al usuario\n",
    "    \"\"\"\n",
    "    entrada = input(\"Introduzca dato: \")\n",
    "    try:\n",
    "        entrada=int(entrada)\n",
    "    except ValueError:\n",
    "        entrada=str(entrada) # Puede ser cambiado por un if que vaya antes del int\n",
    "    return entrada"
   ]
  }
 ],
 "metadata": {
  "language_info": {
   "name": "python"
  },
  "orig_nbformat": 4
 },
 "nbformat": 4,
 "nbformat_minor": 2
}
