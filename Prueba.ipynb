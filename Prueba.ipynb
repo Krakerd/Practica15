{
 "cells": [
  {
   "cell_type": "code",
   "execution_count": 1,
   "metadata": {},
   "outputs": [],
   "source": [
    "import math\n",
    "pila=[]\n",
    "index=0\n",
    "print(\"INICIO DE CALCULADORA, presione C para borrar pila\")"
   ]
  },
  {
   "cell_type": "code",
   "execution_count": 2,
   "metadata": {},
   "outputs": [],
   "source": [
    "def pedirEntrada():\n",
    "    \"\"\"None -> str\n",
    "    Pide la entrada de datos al usuario\n",
    "    \"\"\"\n",
    "    entrada = input(\"Introduzca dato: \")\n",
    "    try:\n",
    "        entrada=int(entrada)\n",
    "    except ValueError:\n",
    "        entrada=str(entrada) # Puede ser cambiado por un if que vaya antes del int\n",
    "    return entrada"
   ]
  },
  {
   "cell_type": "code",
   "execution_count": 3,
   "metadata": {},
   "outputs": [],
   "source": [
    "def operar(x,y,op):\n",
    "    if(op == \"+\"):\n",
    "        return x+y\n",
    "    if(op == \"-\"):\n",
    "        return x-y\n",
    "    if(op == \"*\"):\n",
    "        return x*y\n",
    "    if(op==\"/\"):\n",
    "        if(y==0):\n",
    "            print(\"No zero division supported\")\n",
    "        else:\n",
    "            return x/y"
   ]
  },
  {
   "cell_type": "code",
   "execution_count": 4,
   "metadata": {},
   "outputs": [],
   "source": [
    "def main():\n",
    "    while(True):\n",
    "        entrada=pedirEntrada()\n",
    "        pila.append(entrada)\n",
    "        index = index+1\n",
    "        if(entrada == \"c\" or entrada==\"C\"):\n",
    "            pila=[]\n",
    "            index=0\n",
    "        if(len(pila) >= 3):\n",
    "            resultado = operar(pila[index-3],pila[index-2],pila[index-1])\n",
    "            print(\"El resultados es:\")\n",
    "            print(resultado)\n",
    "            pila[index-3] = resultado\n",
    "            pila.pop(index-1)\n",
    "            pila.pop(index-2)\n",
    "            index=len(pila)\n",
    "            "
   ]
  }
 ],
 "metadata": {
  "interpreter": {
   "hash": "2be5faf79681da6f2a61fdfdd5405d65d042280f7fba6178067603e3a2925119"
  },
  "kernelspec": {
   "display_name": "Python 3.10.2 64-bit",
   "language": "python",
   "name": "python3"
  },
  "language_info": {
   "codemirror_mode": {
    "name": "ipython",
    "version": 3
   },
   "file_extension": ".py",
   "mimetype": "text/x-python",
   "name": "python",
   "nbconvert_exporter": "python",
   "pygments_lexer": "ipython3",
   "version": "3.10.2"
  },
  "orig_nbformat": 4
 },
 "nbformat": 4,
 "nbformat_minor": 2
}
